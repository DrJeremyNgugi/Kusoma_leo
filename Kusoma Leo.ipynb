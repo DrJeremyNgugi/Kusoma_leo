{
 "cells": [
  {
   "cell_type": "code",
   "execution_count": null,
   "id": "34425c11",
   "metadata": {},
   "outputs": [],
   "source": [
    "Today we will learn how to use gitbash and github"
   ]
  },
  {
   "cell_type": "code",
   "execution_count": null,
   "id": "416efce1",
   "metadata": {},
   "outputs": [],
   "source": []
  }
 ],
 "metadata": {
  "kernelspec": {
   "display_name": "Python (learn-env)",
   "language": "python",
   "name": "learn-env"
  }
 },
 "nbformat": 4,
 "nbformat_minor": 5
}
